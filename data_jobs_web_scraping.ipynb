{
 "cells": [
  {
   "cell_type": "markdown",
   "metadata": {},
   "source": [
    "### Web scraping seek for data job information"
   ]
  },
  {
   "cell_type": "markdown",
   "metadata": {},
   "source": [
    "Grab information for the newest data related jobs from seek."
   ]
  },
  {
   "cell_type": "code",
   "execution_count": 29,
   "metadata": {},
   "outputs": [],
   "source": [
    "import requests\n",
    "import bs4\n",
    "from bs4 import BeautifulSoup\n",
    "import pandas as pd\n",
    "import time\n",
    "\n",
    "URL = \"https://www.seek.com.au/data-jobs/in-All-Australia?classification=1209%2C1211%2C6281%2C1223&sortmode=listeddate\""
   ]
  },
  {
   "cell_type": "code",
   "execution_count": 30,
   "metadata": {},
   "outputs": [],
   "source": [
    "#Make a request for our URL\n",
    "page = requests.get(URL)\n",
    "#Read in the page with BeautifulSoup\n",
    "soup = BeautifulSoup(page.text, \"html.parser\")\n",
    "\n",
    "#Uncomment to view the blcok of html\n",
    "#print(soup.prettify())"
   ]
  },
  {
   "cell_type": "markdown",
   "metadata": {},
   "source": [
    "**Pull out job titles**"
   ]
  },
  {
   "cell_type": "code",
   "execution_count": 31,
   "metadata": {},
   "outputs": [
    {
     "data": {
      "text/plain": [
       "['Data Engineer - Energy Efficiency',\n",
       " 'Electrical engineer; Industrial IoT',\n",
       " 'SAP Master Data Specialist (PM & MM) ',\n",
       " '*** CRM Product Owner / Business Analyst ***',\n",
       " 'Practice Coordinator',\n",
       " 'Enterprise Data Architect',\n",
       " 'Senior Data Architect',\n",
       " 'Data Architect',\n",
       " 'Network Engineer- Olympic Dam(OD-Mine) - South Australia.',\n",
       " 'Laboratory Engineer',\n",
       " 'Solution Architect',\n",
       " 'Service and Dispatch Coordinator | Leading Managed Service Provider',\n",
       " 'Analytics Manager',\n",
       " 'Service and Dispatch Coordinator | Leading Managed Service Provider',\n",
       " 'Medical Receptionist - Fulltime Neurology Practice in Bondi Junction',\n",
       " 'Research Nurse',\n",
       " 'Senior IT engineer',\n",
       " 'Data Analyst / Business Analyst  - Perth CBD - Contract ',\n",
       " 'Principal Business Analyst',\n",
       " 'Mechanical Engineer',\n",
       " 'Mechanical Engineer',\n",
       " 'Software Engineer - C++, Qt, QML - mobile ecommerce!']"
      ]
     },
     "execution_count": 31,
     "metadata": {},
     "output_type": "execute_result"
    }
   ],
   "source": [
    "def extract_job_title_from_result(soup): \n",
    "    jobs = []\n",
    "    for div in soup.find_all(name=\"div\", attrs={\"class\":\"_3MPUOLE -LbF7kM\"}):\n",
    "        for art in div.find_all(name=\"article\"):\n",
    "            for h1 in art.find_all(name=\"h1\"):\n",
    "                jobs.append(h1.text)\n",
    "    return(jobs)\n",
    "extract_job_title_from_result(soup)"
   ]
  },
  {
   "cell_type": "markdown",
   "metadata": {},
   "source": [
    "**Pull out employer names**  \n",
    "This is a tiny bit more challenging, articles with class *_3AMdmRg* reliably give the employer names, but they contain some entries we're not interested in. The employers are preceded with a \"Jobs at ___\" prefix, so we select based on this and slice it out."
   ]
  },
  {
   "cell_type": "code",
   "execution_count": 32,
   "metadata": {},
   "outputs": [
    {
     "data": {
      "text/plain": [
       "['Eutility Pty Ltd',\n",
       " 'Collective Intelligence Group',\n",
       " 'Peoplebank Australia',\n",
       " 'Powerstaff Consulting',\n",
       " 'The Three Seas Group',\n",
       " 'Paxus',\n",
       " 'Paxus',\n",
       " 'Paxus',\n",
       " 'Silverlink Technologies',\n",
       " 'Fugro Australia Marine',\n",
       " 'Total IT Consult',\n",
       " 'First Focus IT',\n",
       " 'FourQuarters Recruitment',\n",
       " 'First Focus IT',\n",
       " 'East Neurology',\n",
       " 'Peter MacCallum Cancer Centre',\n",
       " 'Veeva Australia',\n",
       " 'Talent International',\n",
       " 'Talent International',\n",
       " 'Callidus Process Solutions',\n",
       " 'Callidus Process Solutions',\n",
       " 'JJP Talent Solutions']"
      ]
     },
     "execution_count": 32,
     "metadata": {},
     "output_type": "execute_result"
    }
   ],
   "source": [
    "def extract_employer_from_result(soup): \n",
    "    employers = []\n",
    "    for div in soup.find_all(name=\"div\", attrs={\"class\":\"_3MPUOLE\"}):\n",
    "        for art in div.find_all(name=\"article\"):\n",
    "            for a in art.find_all(name=\"a\", attrs={\"class\":\"_3AMdmRg\"}):\n",
    "                if a[\"title\"].startswith(\"Jobs at\"):\n",
    "                    employers.append(a[\"title\"][8:])\n",
    "    return(employers)\n",
    "extract_employer_from_result(soup)"
   ]
  },
  {
   "cell_type": "markdown",
   "metadata": {},
   "source": [
    "**Grab each location**"
   ]
  },
  {
   "cell_type": "code",
   "execution_count": 33,
   "metadata": {},
   "outputs": [],
   "source": [
    "def extract_locations_from_result(soup): \n",
    "    locations = []\n",
    "    for span in soup.find_all(name=\"span\", attrs={\"class\":\"Eadjc1o\"}):\n",
    "        if span.text.startswith(\"location\"):\n",
    "            locations.append(span.text[10:])\n",
    "    return (locations)"
   ]
  },
  {
   "cell_type": "markdown",
   "metadata": {},
   "source": [
    "**Grab salary (if present**  \n",
    "This is a little more difficult, as a lot of postings don't list a salary so we'll need a placeholder"
   ]
  },
  {
   "cell_type": "code",
   "execution_count": 42,
   "metadata": {},
   "outputs": [
    {
     "name": "stdout",
     "output_type": "stream",
     "text": [
      "location: SydneySydneyarea: North Shore & Northern BeachesNorth Shore & Northern Beaches\n",
      "classification: EngineeringEngineeringsubClassification: Environmental EngineeringEnvironmental Engineering\n",
      "location: SydneySydneyarea: South West & M5 CorridorSouth West & M5 Corridor\n",
      "classification: EngineeringEngineeringsubClassification: Electrical/Electronic EngineeringElectrical/Electronic Engineering\n",
      "location: PerthPertharea: CBD, Inner & Western SuburbsCBD, Inner & Western Suburbs\n",
      "classification: Information & Communication TechnologyInformation & Communication TechnologysubClassification: OtherOther\n",
      "location: MelbourneMelbournearea: CBD & Inner SuburbsCBD & Inner Suburbs\n",
      "classification: Information & Communication TechnologyInformation & Communication TechnologysubClassification: Business/Systems AnalystsBusiness/Systems Analysts\n",
      "location: MelbourneMelbournearea: CBD & Inner SuburbsCBD & Inner Suburbs\n",
      "classification: Healthcare & MedicalHealthcare & MedicalsubClassification: Medical AdministrationMedical Administration\n",
      "location: SydneySydneyarea: CBD, Inner West & Eastern SuburbsCBD, Inner West & Eastern Suburbs\n",
      "Competitive\n",
      "classification: Information & Communication TechnologyInformation & Communication TechnologysubClassification: ArchitectsArchitects\n",
      "location: SydneySydneyarea: CBD, Inner West & Eastern SuburbsCBD, Inner West & Eastern Suburbs\n",
      "Competitive\n",
      "classification: Information & Communication TechnologyInformation & Communication TechnologysubClassification: ArchitectsArchitects\n",
      "location: SydneySydneyarea: CBD, Inner West & Eastern SuburbsCBD, Inner West & Eastern Suburbs\n",
      "Competitive\n",
      "classification: Information & Communication TechnologyInformation & Communication TechnologysubClassification: ArchitectsArchitects\n",
      "location: Coober Pedy & Outback SACoober Pedy & Outback SA\n",
      "classification: Information & Communication TechnologyInformation & Communication TechnologysubClassification: Engineering - NetworkEngineering - Network\n",
      "location: PerthPertharea: CBD, Inner & Western SuburbsCBD, Inner & Western Suburbs\n",
      "classification: EngineeringEngineeringsubClassification: OtherOther\n",
      "location: SydneySydneyarea: CBD, Inner West & Eastern SuburbsCBD, Inner West & Eastern Suburbs\n",
      "classification: Information & Communication TechnologyInformation & Communication TechnologysubClassification: ArchitectsArchitects\n",
      "location: MelbourneMelbourne\n",
      "classification: Information & Communication TechnologyInformation & Communication TechnologysubClassification: OtherOther\n",
      "location: PerthPertharea: CBD, Inner & Western SuburbsCBD, Inner & Western Suburbs\n",
      "classification: Information & Communication TechnologyInformation & Communication TechnologysubClassification: ManagementManagement\n",
      "location: SydneySydneyarea: CBD, Inner West & Eastern SuburbsCBD, Inner West & Eastern Suburbs\n",
      "classification: Information & Communication TechnologyInformation & Communication TechnologysubClassification: OtherOther\n",
      "location: SydneySydneyarea: CBD, Inner West & Eastern SuburbsCBD, Inner West & Eastern Suburbs\n",
      "classification: Healthcare & MedicalHealthcare & MedicalsubClassification: Medical AdministrationMedical Administration\n",
      "location: MelbourneMelbournearea: CBD & Inner SuburbsCBD & Inner Suburbs\n",
      "classification: Healthcare & MedicalHealthcare & MedicalsubClassification: Clinical/Medical ResearchClinical/Medical Research\n",
      "location: SydneySydneyarea: North Shore & Northern BeachesNorth Shore & Northern Beaches\n",
      "classification: Information & Communication TechnologyInformation & Communication TechnologysubClassification: Networks & Systems AdministrationNetworks & Systems Administration\n",
      "location: PerthPertharea: CBD, Inner & Western SuburbsCBD, Inner & Western Suburbs\n",
      "classification: Information & Communication TechnologyInformation & Communication TechnologysubClassification: Business/Systems AnalystsBusiness/Systems Analysts\n",
      "location: BrisbaneBrisbane\n",
      "classification: Information & Communication TechnologyInformation & Communication TechnologysubClassification: Business/Systems AnalystsBusiness/Systems Analysts\n",
      "location: AdelaideAdelaide\n",
      "classification: EngineeringEngineeringsubClassification: Mechanical EngineeringMechanical Engineering\n",
      "location: BrisbaneBrisbanearea: CBD & Inner SuburbsCBD & Inner Suburbs\n",
      "classification: EngineeringEngineeringsubClassification: Mechanical EngineeringMechanical Engineering\n",
      "location: BrisbaneBrisbanearea: CBD & Inner SuburbsCBD & Inner Suburbs\n",
      "classification: Information & Communication TechnologyInformation & Communication TechnologysubClassification: Engineering - SoftwareEngineering - Software\n"
     ]
    }
   ],
   "source": [
    "#def extract_salary_from_result(soup):\n",
    "salaries = []\n",
    "for div in soup.find_all(name=\"div\", attrs={\"class\":\"xxz8a1h\"}):\n",
    "    for span in div.find_all(name=\"span\", attrs={\"class\":\"_3FrNV7v _3PZrylH E6m4BZb\"}):\n",
    "        print (span.text)\n",
    "#for span in soup.find_all(name=\"span\", attrs={\"class\":\"_3FrNV7v _3PZrylH E6m4BZb\"}):\n",
    " #   print (span)"
   ]
  },
  {
   "cell_type": "code",
   "execution_count": 35,
   "metadata": {},
   "outputs": [
    {
     "ename": "SyntaxError",
     "evalue": "invalid character in identifier (<ipython-input-35-dc0300e53707>, line 3)",
     "output_type": "error",
     "traceback": [
      "\u001b[1;36m  File \u001b[1;32m\"<ipython-input-35-dc0300e53707>\"\u001b[1;36m, line \u001b[1;32m3\u001b[0m\n\u001b[1;33m    for div in soup.find_all(name=”div”, attrs={“class”:”row”}):\u001b[0m\n\u001b[1;37m                                      ^\u001b[0m\n\u001b[1;31mSyntaxError\u001b[0m\u001b[1;31m:\u001b[0m invalid character in identifier\n"
     ]
    }
   ],
   "source": [
    "def extract_salary_from_result(soup): \n",
    "  salaries = []\n",
    "  for div in soup.find_all(name=”div”, attrs={“class”:”row”}):\n",
    "    try:\n",
    "      salaries.append(div.find(‘nobr’).text)\n",
    "    except:\n",
    "      try:\n",
    "        div_two = div.find(name=”div”, attrs={“class”:”sjcl”})\n",
    "        div_three = div_two.find(“div”)\n",
    "        salaries.append(div_three.text.strip())\n",
    "      except:\n",
    "        salaries.append(“Nothing_found”)\n",
    "  return(salaries)\n",
    "extract_salary_from_result(soup)"
   ]
  }
 ],
 "metadata": {
  "kernelspec": {
   "display_name": "Python 3",
   "language": "python",
   "name": "python3"
  },
  "language_info": {
   "codemirror_mode": {
    "name": "ipython",
    "version": 3
   },
   "file_extension": ".py",
   "mimetype": "text/x-python",
   "name": "python",
   "nbconvert_exporter": "python",
   "pygments_lexer": "ipython3",
   "version": "3.6.5"
  }
 },
 "nbformat": 4,
 "nbformat_minor": 2
}
